{
 "cells": [
  {
   "cell_type": "code",
   "execution_count": 1,
   "metadata": {},
   "outputs": [],
   "source": [
    "import pandas as pd\n",
    "import numpy as np\n",
    "import math as math\n",
    "from scipy import stats\n",
    "from matplotlib import pyplot as plt"
   ]
  },
  {
   "cell_type": "markdown",
   "metadata": {},
   "source": [
    "### Задача 1\n",
    "О непрерывной равномерно распределенной случайной величине `B` известно, что ее дисперсия равна 0.2. Можно ли найти правую границу величины `B` и ее среднее значение зная, что левая граница равна 0.5? Если да, найдите ее."
   ]
  },
  {
   "cell_type": "markdown",
   "metadata": {},
   "source": [
    "#### Решение:\n",
    "$$M(X) = \\dfrac{a + b}{2}, \\text{ } D(X) = \\dfrac{(b - a)^2}{12},$$\n",
    "где a - правая граница, b - левая граница.\n",
    "\n",
    "b = 0.5, D(X) = 0.2.\n",
    "\n",
    "Требуется определить a, M(X)."
   ]
  },
  {
   "cell_type": "markdown",
   "metadata": {},
   "source": [
    "$\\dfrac{(b - a)^2}{12} = 0.2 \\text{ } => (0.5 - a)^2 = 12 * 0.2 \\text{ } => (0.5 - a) = \\sqrt {2.4} \\text{ } => a = 0.5 - 2*\\sqrt {0.6} = -1.05$"
   ]
  },
  {
   "cell_type": "markdown",
   "metadata": {},
   "source": [
    "$M(X) = \\dfrac{a + b}{2} = \\dfrac{-1.05 + 0.5}{2} = -0.275$"
   ]
  },
  {
   "cell_type": "markdown",
   "metadata": {},
   "source": [
    "#### Ответ:\n",
    "a = -1.05\n",
    "\n",
    "M(X) = -0.275"
   ]
  },
  {
   "cell_type": "markdown",
   "metadata": {},
   "source": [
    "### Задача 2\n",
    "Рост взрослого населения города `X` имеет нормальное распределение, причем средний рост равен 174 см, а среднее квадратическое отклонение равно 8 см. Посчитайте, какова вероятность того, что случайным образом выбранный взрослый человек имеет рост:\n",
    "1. больше 182 см?\n",
    "2. больше 190 см?\n",
    "3. от 166 см до 190 см?\n",
    "4. от 166 см до 182 см?\n",
    "5. от 158 см до 190 см?\n",
    "6. не выше 150 см или не ниже 190 см?\n",
    "7. не выше 150 см или не ниже 198 см?\n",
    "8. ниже 166 см?\n",
    "\n",
    "Задачу можно решить двумя способами: без использования сторонних библиотек (`numpy`, `scipy`, `pandas` и пр.), а затем проверить себя с помощью встроенных функций"
   ]
  },
  {
   "cell_type": "markdown",
   "metadata": {},
   "source": [
    "#### Решение:\n",
    "$a = 174, \\sigma = 8$"
   ]
  },
  {
   "cell_type": "code",
   "execution_count": 2,
   "metadata": {},
   "outputs": [],
   "source": [
    "loc = 174 # mu\n",
    "scale = 8 #sigma"
   ]
  },
  {
   "cell_type": "code",
   "execution_count": 3,
   "metadata": {},
   "outputs": [
    {
     "data": {
      "text/plain": [
       "0.15865525393145707"
      ]
     },
     "execution_count": 3,
     "metadata": {},
     "output_type": "execute_result"
    }
   ],
   "source": [
    "# 1. рост больше 182 см?\n",
    "x = 182\n",
    "1 - stats.norm.cdf(x, loc, scale)"
   ]
  },
  {
   "cell_type": "code",
   "execution_count": 4,
   "metadata": {},
   "outputs": [
    {
     "data": {
      "text/plain": [
       "0.02275013194817921"
      ]
     },
     "execution_count": 4,
     "metadata": {},
     "output_type": "execute_result"
    }
   ],
   "source": [
    "# 2. рост больше 190 см?\n",
    "x = 190\n",
    "1 - stats.norm.cdf(x, loc, scale)"
   ]
  },
  {
   "cell_type": "code",
   "execution_count": 5,
   "metadata": {},
   "outputs": [
    {
     "data": {
      "text/plain": [
       "0.9371907111880037"
      ]
     },
     "execution_count": 5,
     "metadata": {},
     "output_type": "execute_result"
    }
   ],
   "source": [
    "# 3. рост от 160 см до 190 см?\n",
    "x1 = 190\n",
    "x2 = 160\n",
    "stats.norm.cdf(x1, loc, scale) - stats.norm.cdf(x2, loc, scale)"
   ]
  },
  {
   "cell_type": "code",
   "execution_count": 6,
   "metadata": {},
   "outputs": [
    {
     "data": {
      "text/plain": [
       "0.6826894921370859"
      ]
     },
     "execution_count": 6,
     "metadata": {},
     "output_type": "execute_result"
    }
   ],
   "source": [
    "# 4. рост от 166 см до 182 см?\n",
    "x1 = 182\n",
    "x2 = 166\n",
    "stats.norm.cdf(x1, loc, scale) - stats.norm.cdf(x2, loc, scale)"
   ]
  },
  {
   "cell_type": "code",
   "execution_count": 7,
   "metadata": {},
   "outputs": [
    {
     "data": {
      "text/plain": [
       "0.9544997361036416"
      ]
     },
     "execution_count": 7,
     "metadata": {},
     "output_type": "execute_result"
    }
   ],
   "source": [
    "# 5. рост от 158 см до 190 см?\n",
    "x1 = 190\n",
    "x2 = 158\n",
    "stats.norm.cdf(x1, loc, scale) - stats.norm.cdf(x2, loc, scale)"
   ]
  },
  {
   "cell_type": "code",
   "execution_count": 8,
   "metadata": {},
   "outputs": [
    {
     "data": {
      "text/plain": [
       "0.0241000299798093"
      ]
     },
     "execution_count": 8,
     "metadata": {},
     "output_type": "execute_result"
    }
   ],
   "source": [
    "# 6. рост не выше 150 см или не ниже 190 см?\n",
    "x1 = 190\n",
    "x2 = 150\n",
    "1 - stats.norm.cdf(x1, loc, scale) + stats.norm.cdf(x2, loc, scale)"
   ]
  },
  {
   "cell_type": "code",
   "execution_count": 9,
   "metadata": {},
   "outputs": [
    {
     "data": {
      "text/plain": [
       "0.0026997960632601965"
      ]
     },
     "execution_count": 9,
     "metadata": {},
     "output_type": "execute_result"
    }
   ],
   "source": [
    "# 7. рост не выше 150 см или не ниже 198 см?\n",
    "x1 = 198\n",
    "x2 = 150\n",
    "1 - stats.norm.cdf(x1, loc, scale) + stats.norm.cdf(x2, loc, scale)"
   ]
  },
  {
   "cell_type": "code",
   "execution_count": 10,
   "metadata": {},
   "outputs": [
    {
     "data": {
      "text/plain": [
       "0.15865525393145707"
      ]
     },
     "execution_count": 10,
     "metadata": {},
     "output_type": "execute_result"
    }
   ],
   "source": [
    "# 8. рост ниже 166 см?\n",
    "x = 166\n",
    "stats.norm.cdf(x, loc, scale)"
   ]
  },
  {
   "cell_type": "markdown",
   "metadata": {},
   "source": [
    "#### Ответ:\n",
    "1. 15.9%\n",
    "2. 2.3%\n",
    "3. 93.7%\n",
    "4. 68.3%\n",
    "5. 95.4%\n",
    "6. 2.4%\n",
    "7. 0.3%\n",
    "8. 15.9%"
   ]
  },
  {
   "cell_type": "markdown",
   "metadata": {},
   "source": [
    "### Задача 3\n",
    "Коробки с шоколадом упаковываются автоматически. Их средняя масса равна 1.06 кг. Известно, что 5% коробок имеют массу, меньшую 1 кг. Найдите: а) среднее квадратическое отклонение массы коробки, б) процент коробок, имеющих массу больше 1.1 кг.\n",
    "\n",
    "_Подсказка_. 1. Можно считать, что распределение массы коробки нормальное. 2. Найдите такое значение `scale`, для которого значение `cdf(x=1, loc=1.06, scale=scale)` близко к 0.05. Точности 0.0001 будет достаточно."
   ]
  },
  {
   "cell_type": "markdown",
   "metadata": {},
   "source": [
    "#### Решение:\n"
   ]
  },
  {
   "cell_type": "code",
   "execution_count": 11,
   "metadata": {},
   "outputs": [
    {
     "name": "stdout",
     "output_type": "stream",
     "text": [
      "0.03646000000000002\n"
     ]
    }
   ],
   "source": [
    "# а) Найти среднее квадратичное отклонение с точностью 0.0001\n",
    "scale = 0.0364\n",
    "while abs(0.05 - stats.norm.cdf(x=1, loc=1.06, scale=scale)) > 0.0001:\n",
    "    scale += 0.00001\n",
    "print (scale)"
   ]
  },
  {
   "cell_type": "code",
   "execution_count": 12,
   "metadata": {},
   "outputs": [
    {
     "data": {
      "text/plain": [
       "0.13630043457442875"
      ]
     },
     "execution_count": 12,
     "metadata": {},
     "output_type": "execute_result"
    }
   ],
   "source": [
    "# б) процент коробок, имеющих массу больше 1.1 кг\n",
    "1 - stats.norm.cdf(x=1.1, loc=1.06, scale=0.03646)"
   ]
  },
  {
   "cell_type": "markdown",
   "metadata": {},
   "source": [
    "#### Ответ:\n",
    "а) 0.03646\n",
    "б) 13.63%"
   ]
  }
 ],
 "metadata": {
  "kernelspec": {
   "display_name": "Python 3",
   "language": "python",
   "name": "python3"
  },
  "language_info": {
   "codemirror_mode": {
    "name": "ipython",
    "version": 3
   },
   "file_extension": ".py",
   "mimetype": "text/x-python",
   "name": "python",
   "nbconvert_exporter": "python",
   "pygments_lexer": "ipython3",
   "version": "3.8.5"
  }
 },
 "nbformat": 4,
 "nbformat_minor": 4
}
