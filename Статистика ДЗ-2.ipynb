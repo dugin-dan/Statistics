{
 "cells": [
  {
   "cell_type": "code",
   "execution_count": 1,
   "metadata": {},
   "outputs": [],
   "source": [
    "import numpy as np\n",
    "from math import factorial\n",
    "def arrangements(n, k):\n",
    "    return int(factorial(n) / factorial(n - k))\n",
    "def permutations(n):\n",
    "    return int(factorial(n))\n",
    "def combinations(n, k):\n",
    "    return int(factorial(n) / (factorial(k) * factorial(n - k)))"
   ]
  },
  {
   "cell_type": "markdown",
   "metadata": {},
   "source": [
    "### Задача 1\n",
    "Контрольная работа состоит из пяти вопросов. На каждый вопрос приведено четыре варианта ответа, один из которых правильный. Составьте закон распределения числа правильных ответов при простом угадывании. Найдите M(X), D(X)."
   ]
  },
  {
   "cell_type": "markdown",
   "metadata": {},
   "source": [
    "#### Решение:\n",
    "Поскольку на каждый вопрос есть 4 варианта ответов, из которых правилен лишь один, то вероятность правильного ответа на каждый вопрос будет для всех вопросов одинакова и равна 1/4. Вероятность неправильного ответа для всех вопросов также будет одинакова и равна 3/4.\n",
    "Возможны следующие варианты угадывания правильных ответов: 0 правильных ответов, 1 из 5 правильных ответов, 2 из 5, 3, 4 и 5 правильных ответов. Вероятность каждого варианта рассчитаем по формуле Бернулли, где n = 5, k меняется от 0 до 5, p = 0.25, q = 0.75.\n",
    "Посчитаем вероятность каждого значения:\n",
    "\n",
    "$$P(X = 0) = C_n^k p^k (1 - p)^{n - k} = C_5^0 \\cdot 0.25^0 \\cdot 0.75^5 = \\frac{5!}{0! \\: (5-0)!} \\cdot 0.25^0 \\cdot 0.75^5 = 1 \\cdot 1 \\cdot 0.2373046875 = 0.2373046875$$\n",
    "\n",
    "$$P(X = 1) = C_5^1 \\cdot 0.25^1 \\cdot 0.75^4 = \\frac{5!}{1! \\: 4!} \\cdot 0.25^1 \\cdot 0.75^4 = 0.3955078125$$\n",
    "\n",
    "$$P(X = 2) = C_5^2 \\cdot 0.25^2 \\cdot 0.75^3 = \\frac{5!}{2! \\: 3!} \\cdot 0.25^2 \\cdot 0.75^3 = 0.52734375$$\n",
    "\n",
    "$$P(X = 3) = C_5^3 \\cdot 0.25^3 \\cdot 0.75^2 = \\frac{5!}{3! \\: 2!} \\cdot 0.25^3 \\cdot 0.75^2 = 0.17578125$$\n",
    "\n",
    "$$P(X = 4) = C_5^4 \\cdot 0.25^4 \\cdot 0.75^1 = \\frac{5!}{4! \\: 1!} \\cdot 0.25^4 \\cdot 0.75^1 = 0.0146484375$$\n",
    "\n",
    "$$P(X = 5) = C_5^5 \\cdot 0.25^5 \\cdot 0.75^0 = \\frac{5!}{5! \\: 0!} \\cdot 0.25^5 \\cdot 0.75^0 = 0.0009765625$$\n",
    "\n",
    "Итак, закон распределения такой случайной величины:\n",
    "<table border=\"3\">\n",
    "    <tr>\n",
    "        <th>$x$</th>\n",
    "        <td>0</td>\n",
    "        <td>1</td>\n",
    "        <td>2</td>\n",
    "        <td>3</td>\n",
    "        <td>4</td>\n",
    "        <td>5</td>       \n",
    "</tr>\n",
    "    <tr>\n",
    "        <th>$P(X=x)$</th>\n",
    "        <td>0.237</td>\n",
    "        <td>0.396</td>\n",
    "        <td>0.527</td>\n",
    "        <td>0.176</td>\n",
    "        <td>0.015</td>\n",
    "        <td>0.001</td>        \n",
    "    </tr>\n",
    "</table>"
   ]
  },
  {
   "cell_type": "markdown",
   "metadata": {},
   "source": [
    "Посчитаем математическое ожидание:"
   ]
  },
  {
   "cell_type": "code",
   "execution_count": 2,
   "metadata": {},
   "outputs": [
    {
     "data": {
      "text/plain": [
       "2.041015625"
      ]
     },
     "execution_count": 2,
     "metadata": {},
     "output_type": "execute_result"
    }
   ],
   "source": [
    "x_values = np.array([0, 1, 2, 3, 4, 5])\n",
    "x_probabilities = np.array([0.2373046875, 0.3955078125, 0.52734375, \n",
    "                            0.17578125, 0.0146484375, 0.0009765625])\n",
    "m = x_values.dot(x_probabilities)\n",
    "m"
   ]
  },
  {
   "cell_type": "code",
   "execution_count": 3,
   "metadata": {},
   "outputs": [
    {
     "data": {
      "text/plain": [
       "1.6444779932498932"
      ]
     },
     "execution_count": 3,
     "metadata": {},
     "output_type": "execute_result"
    }
   ],
   "source": [
    "y_values = x_values - m\n",
    "z_values = y_values ** 2\n",
    "d = z_values.dot(x_probabilities)\n",
    "d"
   ]
  },
  {
   "cell_type": "markdown",
   "metadata": {},
   "source": [
    "#### Ответ:\n",
    "<table border=\"3\">\n",
    "    <tr>\n",
    "        <th>$x$</th>\n",
    "        <td>0</td>\n",
    "        <td>1</td>\n",
    "        <td>2</td>\n",
    "        <td>3</td>\n",
    "        <td>4</td>\n",
    "        <td>5</td>       \n",
    "</tr>\n",
    "    <tr>\n",
    "        <th>$P(X=x)$</th>\n",
    "        <td>0.237</td>\n",
    "        <td>0.396</td>\n",
    "        <td>0.527</td>\n",
    "        <td>0.176</td>\n",
    "        <td>0.015</td>\n",
    "        <td>0.001</td>        \n",
    "    </tr>\n",
    "</table>\n",
    "\n",
    "M(X) = 2.041015625\n",
    "\n",
    "D(X) = 1.6444779932498932"
   ]
  },
  {
   "cell_type": "markdown",
   "metadata": {},
   "source": [
    "### Задача 2\n",
    "Вероятность попадания в цель при одном выстреле равна 0.01. Какова вероятность того, что число попаданий при 200 выстрелах будет не менее 5 и не более 10?"
   ]
  },
  {
   "cell_type": "markdown",
   "metadata": {},
   "source": [
    "#### Решение:\n",
    "p = 0.01, q = 0.99, n = 200, k = [5 , 10]\n",
    "\n",
    "$$P(X = 5) = C_{200}^5 \\cdot 0.01^5 \\cdot 0.99^{195} = \\frac{200!}{5! \\: 195!} \\cdot 0.01^5 \\cdot 0.99^{195} = 0.3955078125$$\n",
    "\n",
    "$$P(X = 6) = C_{200}^6 \\cdot 0.01^6 \\cdot 0.99^{194} = \\frac{200!}{6! \\: 194!} \\cdot 0.01^6 \\cdot 0.99^{194} = 0.3955078125$$\n",
    "\n",
    "$$P(X = 7) = C_{200}^7 \\cdot 0.01^7 \\cdot 0.99^{193} = \\frac{200!}{7! \\: 193!} \\cdot 0.01^7 \\cdot 0.99^{193} = 0.3955078125$$\n",
    "\n",
    "$$P(X = 8) = C_{200}^8 \\cdot 0.01^8 \\cdot 0.99^{192} = \\frac{200!}{8! \\: 192!} \\cdot 0.01^8 \\cdot 0.99^{192} = 0.3955078125$$\n",
    "\n",
    "$$P(X = 9) = C_{200}^9 \\cdot 0.01^9 \\cdot 0.99^{191} = \\frac{200!}{9! \\: 191!} \\cdot 0.01^9 \\cdot 0.99^{191} = 0.3955078125$$\n",
    "\n",
    "$$P(X = 10) = C_{200}^{10} \\cdot 0.01^{10} \\cdot 0.99^{190} = \\frac{200!}{10! \\: 190!} \\cdot 0.01^{10} \\cdot 0.99^{190} = 0.3955078125$$\n"
   ]
  },
  {
   "cell_type": "code",
   "execution_count": 4,
   "metadata": {},
   "outputs": [
    {
     "data": {
      "text/plain": [
       "0.051739381860374606"
      ]
     },
     "execution_count": 4,
     "metadata": {},
     "output_type": "execute_result"
    }
   ],
   "source": [
    "n=200\n",
    "sum(combinations(n, k)*0.01**k*0.99**(n-k) for k in range(5, 11))"
   ]
  },
  {
   "cell_type": "markdown",
   "metadata": {},
   "source": [
    "#### Ответ:\n",
    "0.0517"
   ]
  },
  {
   "cell_type": "markdown",
   "metadata": {},
   "source": [
    "### Задача 3\n",
    "В условиях предыдущей задачи сколько выстрелов нужно сделать чтобы быть уверенным с вероятностью 0.9, что хотя бы 10 раз будет совершено попадание?\n",
    "\n",
    "_Подсказка_. Как посчитать P(X >= k) для величины X, имеющей биномиальное распределение? Здесь предстоит немножко покодить."
   ]
  },
  {
   "cell_type": "markdown",
   "metadata": {},
   "source": [
    "#### Решение:\n"
   ]
  },
  {
   "cell_type": "code",
   "execution_count": 10,
   "metadata": {},
   "outputs": [
    {
     "ename": "OverflowError",
     "evalue": "integer division result too large for a float",
     "output_type": "error",
     "traceback": [
      "\u001b[1;31m---------------------------------------------------------------------------\u001b[0m",
      "\u001b[1;31mOverflowError\u001b[0m                             Traceback (most recent call last)",
      "\u001b[1;32m<ipython-input-10-f0f31440f853>\u001b[0m in \u001b[0;36m<module>\u001b[1;34m\u001b[0m\n\u001b[0;32m      1\u001b[0m \u001b[0mn\u001b[0m \u001b[1;33m=\u001b[0m \u001b[1;36m10\u001b[0m\u001b[1;33m\u001b[0m\u001b[1;33m\u001b[0m\u001b[0m\n\u001b[0;32m      2\u001b[0m \u001b[1;32mwhile\u001b[0m \u001b[0mp\u001b[0m \u001b[1;33m<=\u001b[0m \u001b[1;36m0.9\u001b[0m\u001b[1;33m:\u001b[0m\u001b[1;33m\u001b[0m\u001b[1;33m\u001b[0m\u001b[0m\n\u001b[1;32m----> 3\u001b[1;33m     \u001b[0mp\u001b[0m \u001b[1;33m=\u001b[0m \u001b[0msum\u001b[0m\u001b[1;33m(\u001b[0m\u001b[0mcombinations\u001b[0m\u001b[1;33m(\u001b[0m\u001b[0mn\u001b[0m\u001b[1;33m,\u001b[0m \u001b[0mk\u001b[0m\u001b[1;33m)\u001b[0m\u001b[1;33m*\u001b[0m\u001b[1;36m0.01\u001b[0m\u001b[1;33m**\u001b[0m\u001b[0mk\u001b[0m\u001b[1;33m*\u001b[0m\u001b[1;36m0.99\u001b[0m\u001b[1;33m**\u001b[0m\u001b[1;33m(\u001b[0m\u001b[0mn\u001b[0m\u001b[1;33m-\u001b[0m\u001b[0mk\u001b[0m\u001b[1;33m)\u001b[0m \u001b[1;32mfor\u001b[0m \u001b[0mk\u001b[0m \u001b[1;32min\u001b[0m \u001b[0mrange\u001b[0m\u001b[1;33m(\u001b[0m\u001b[1;36m10\u001b[0m\u001b[1;33m,\u001b[0m \u001b[0mn\u001b[0m\u001b[1;33m+\u001b[0m\u001b[1;36m1\u001b[0m\u001b[1;33m)\u001b[0m\u001b[1;33m)\u001b[0m\u001b[1;33m\u001b[0m\u001b[1;33m\u001b[0m\u001b[0m\n\u001b[0m\u001b[0;32m      4\u001b[0m     \u001b[0mn\u001b[0m \u001b[1;33m+=\u001b[0m\u001b[1;36m1\u001b[0m\u001b[1;33m\u001b[0m\u001b[1;33m\u001b[0m\u001b[0m\n\u001b[0;32m      5\u001b[0m \u001b[0mprint\u001b[0m\u001b[1;33m(\u001b[0m\u001b[0mn\u001b[0m\u001b[1;33m)\u001b[0m\u001b[1;33m\u001b[0m\u001b[1;33m\u001b[0m\u001b[0m\n",
      "\u001b[1;32m<ipython-input-10-f0f31440f853>\u001b[0m in \u001b[0;36m<genexpr>\u001b[1;34m(.0)\u001b[0m\n\u001b[0;32m      1\u001b[0m \u001b[0mn\u001b[0m \u001b[1;33m=\u001b[0m \u001b[1;36m10\u001b[0m\u001b[1;33m\u001b[0m\u001b[1;33m\u001b[0m\u001b[0m\n\u001b[0;32m      2\u001b[0m \u001b[1;32mwhile\u001b[0m \u001b[0mp\u001b[0m \u001b[1;33m<=\u001b[0m \u001b[1;36m0.9\u001b[0m\u001b[1;33m:\u001b[0m\u001b[1;33m\u001b[0m\u001b[1;33m\u001b[0m\u001b[0m\n\u001b[1;32m----> 3\u001b[1;33m     \u001b[0mp\u001b[0m \u001b[1;33m=\u001b[0m \u001b[0msum\u001b[0m\u001b[1;33m(\u001b[0m\u001b[0mcombinations\u001b[0m\u001b[1;33m(\u001b[0m\u001b[0mn\u001b[0m\u001b[1;33m,\u001b[0m \u001b[0mk\u001b[0m\u001b[1;33m)\u001b[0m\u001b[1;33m*\u001b[0m\u001b[1;36m0.01\u001b[0m\u001b[1;33m**\u001b[0m\u001b[0mk\u001b[0m\u001b[1;33m*\u001b[0m\u001b[1;36m0.99\u001b[0m\u001b[1;33m**\u001b[0m\u001b[1;33m(\u001b[0m\u001b[0mn\u001b[0m\u001b[1;33m-\u001b[0m\u001b[0mk\u001b[0m\u001b[1;33m)\u001b[0m \u001b[1;32mfor\u001b[0m \u001b[0mk\u001b[0m \u001b[1;32min\u001b[0m \u001b[0mrange\u001b[0m\u001b[1;33m(\u001b[0m\u001b[1;36m10\u001b[0m\u001b[1;33m,\u001b[0m \u001b[0mn\u001b[0m\u001b[1;33m+\u001b[0m\u001b[1;36m1\u001b[0m\u001b[1;33m)\u001b[0m\u001b[1;33m)\u001b[0m\u001b[1;33m\u001b[0m\u001b[1;33m\u001b[0m\u001b[0m\n\u001b[0m\u001b[0;32m      4\u001b[0m     \u001b[0mn\u001b[0m \u001b[1;33m+=\u001b[0m\u001b[1;36m1\u001b[0m\u001b[1;33m\u001b[0m\u001b[1;33m\u001b[0m\u001b[0m\n\u001b[0;32m      5\u001b[0m \u001b[0mprint\u001b[0m\u001b[1;33m(\u001b[0m\u001b[0mn\u001b[0m\u001b[1;33m)\u001b[0m\u001b[1;33m\u001b[0m\u001b[1;33m\u001b[0m\u001b[0m\n",
      "\u001b[1;32m<ipython-input-1-ace4470f7d65>\u001b[0m in \u001b[0;36mcombinations\u001b[1;34m(n, k)\u001b[0m\n\u001b[0;32m      6\u001b[0m     \u001b[1;32mreturn\u001b[0m \u001b[0mint\u001b[0m\u001b[1;33m(\u001b[0m\u001b[0mfactorial\u001b[0m\u001b[1;33m(\u001b[0m\u001b[0mn\u001b[0m\u001b[1;33m)\u001b[0m\u001b[1;33m)\u001b[0m\u001b[1;33m\u001b[0m\u001b[1;33m\u001b[0m\u001b[0m\n\u001b[0;32m      7\u001b[0m \u001b[1;32mdef\u001b[0m \u001b[0mcombinations\u001b[0m\u001b[1;33m(\u001b[0m\u001b[0mn\u001b[0m\u001b[1;33m,\u001b[0m \u001b[0mk\u001b[0m\u001b[1;33m)\u001b[0m\u001b[1;33m:\u001b[0m\u001b[1;33m\u001b[0m\u001b[1;33m\u001b[0m\u001b[0m\n\u001b[1;32m----> 8\u001b[1;33m     \u001b[1;32mreturn\u001b[0m \u001b[0mint\u001b[0m\u001b[1;33m(\u001b[0m\u001b[0mfactorial\u001b[0m\u001b[1;33m(\u001b[0m\u001b[0mn\u001b[0m\u001b[1;33m)\u001b[0m \u001b[1;33m/\u001b[0m \u001b[1;33m(\u001b[0m\u001b[0mfactorial\u001b[0m\u001b[1;33m(\u001b[0m\u001b[0mk\u001b[0m\u001b[1;33m)\u001b[0m \u001b[1;33m*\u001b[0m \u001b[0mfactorial\u001b[0m\u001b[1;33m(\u001b[0m\u001b[0mn\u001b[0m \u001b[1;33m-\u001b[0m \u001b[0mk\u001b[0m\u001b[1;33m)\u001b[0m\u001b[1;33m)\u001b[0m\u001b[1;33m)\u001b[0m\u001b[1;33m\u001b[0m\u001b[1;33m\u001b[0m\u001b[0m\n\u001b[0m",
      "\u001b[1;31mOverflowError\u001b[0m: integer division result too large for a float"
     ]
    }
   ],
   "source": [
    "n = 10\n",
    "while p <= 0.9:\n",
    "    p = sum(combinations(n, k)*0.01**k*0.99**(n-k) for k in range(10, n+1)) \n",
    "    n +=1\n",
    "print(n)"
   ]
  },
  {
   "cell_type": "markdown",
   "metadata": {},
   "source": [
    "#### Ответ:\n"
   ]
  }
 ],
 "metadata": {
  "kernelspec": {
   "display_name": "Python 3",
   "language": "python",
   "name": "python3"
  },
  "language_info": {
   "codemirror_mode": {
    "name": "ipython",
    "version": 3
   },
   "file_extension": ".py",
   "mimetype": "text/x-python",
   "name": "python",
   "nbconvert_exporter": "python",
   "pygments_lexer": "ipython3",
   "version": "3.8.5"
  }
 },
 "nbformat": 4,
 "nbformat_minor": 4
}
